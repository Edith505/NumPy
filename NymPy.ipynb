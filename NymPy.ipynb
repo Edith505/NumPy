{
 "cells": [
  {
   "cell_type": "markdown",
   "id": "d4fe048e-5a10-49e6-9c20-e720a443b70d",
   "metadata": {},
   "source": [
    "# **Importation Numpy**"
   ]
  },
  {
   "cell_type": "code",
   "execution_count": 1,
   "id": "5694c339-7da8-43f2-9e09-17219257891b",
   "metadata": {},
   "outputs": [],
   "source": [
    "import numpy as np"
   ]
  },
  {
   "cell_type": "code",
   "execution_count": 3,
   "id": "1bc2ec69-b28c-4303-84d3-0353da807be2",
   "metadata": {},
   "outputs": [
    {
     "data": {
      "text/plain": [
       "dtype('int32')"
      ]
     },
     "execution_count": 3,
     "metadata": {},
     "output_type": "execute_result"
    }
   ],
   "source": [
    "ar = np.array([1,2,3,4])\n",
    "ar.dtype"
   ]
  },
  {
   "cell_type": "code",
   "execution_count": 5,
   "id": "faecf5b0-5f14-4318-9b84-f169b3cc4cf7",
   "metadata": {},
   "outputs": [
    {
     "name": "stdout",
     "output_type": "stream",
     "text": [
      "dimension : 1, taille : 4, forme : (4,)\n"
     ]
    }
   ],
   "source": [
    "print(f\"dimension : {ar.ndim}, taille : {ar.size}, forme : {ar.shape}\")"
   ]
  },
  {
   "cell_type": "markdown",
   "id": "66727333-19ff-40ce-8f13-5433e471cde2",
   "metadata": {},
   "source": [
    "# **Tableau numpy a multi-dimenssion**"
   ]
  },
  {
   "cell_type": "code",
   "execution_count": 10,
   "id": "e6edd308-bd8f-45e1-b38d-318e2e3d4b49",
   "metadata": {},
   "outputs": [
    {
     "data": {
      "text/plain": [
       "array([[1, 2, 3],\n",
       "       [4, 5, 6]])"
      ]
     },
     "execution_count": 10,
     "metadata": {},
     "output_type": "execute_result"
    }
   ],
   "source": [
    "ar1 = np.array([[1,2,3],[4,5,6]])\n",
    "ar1"
   ]
  },
  {
   "cell_type": "markdown",
   "id": "84623d9d-6fbe-4042-865e-1904abed0183",
   "metadata": {},
   "source": [
    "Un accès par une seule paire de crochets avec des indices séparés par des virgules"
   ]
  },
  {
   "cell_type": "code",
   "execution_count": 11,
   "id": "d06d48b5-7f1d-4c01-b4aa-74cb17515ab6",
   "metadata": {},
   "outputs": [
    {
     "data": {
      "text/plain": [
       "array([[7, 2, 3],\n",
       "       [4, 5, 6]])"
      ]
     },
     "execution_count": 11,
     "metadata": {},
     "output_type": "execute_result"
    }
   ],
   "source": [
    "ar1[0,0] = 7\n",
    "ar1"
   ]
  },
  {
   "cell_type": "markdown",
   "id": "cfe720bd-e76e-4558-8ef1-36ea1f3e498e",
   "metadata": {},
   "source": [
    "les tableaus numpy ont un type fixe"
   ]
  },
  {
   "cell_type": "code",
   "execution_count": 13,
   "id": "cf7a67e0-72f8-4c56-ac49-7aabb1aa79b8",
   "metadata": {},
   "outputs": [
    {
     "name": "stdout",
     "output_type": "stream",
     "text": [
      "int32\n",
      "float32\n"
     ]
    },
    {
     "data": {
      "text/plain": [
       "array([[3, 2, 3],\n",
       "       [4, 5, 6]])"
      ]
     },
     "execution_count": 13,
     "metadata": {},
     "output_type": "execute_result"
    }
   ],
   "source": [
    "print(ar1.dtype)\n",
    "b = np.array([1, 2, 3], dtype=np.float32)\n",
    "print(b.dtype) \n",
    "ar1[0,0] = np.pi\n",
    "ar1"
   ]
  },
  {
   "cell_type": "markdown",
   "id": "9e37e933-c5b6-4c60-84f9-ca7cb15a4b0a",
   "metadata": {},
   "source": [
    "## **Décomposition :**\n",
    "    np.arange(start, stop, step) est une fonction NumPy qui crée un tableau 1D avec des valeurs régulièrement espacées.\n",
    "    - start = 0 → le point de départ\n",
    "    - stop = 20 → non inclus (attention : comme range() en Python)\n",
    "    - step = 3 → le pas entre les valeurs"
   ]
  },
  {
   "cell_type": "code",
   "execution_count": 16,
   "id": "64f488bd-5ae7-4591-b209-4e37387a3e7c",
   "metadata": {},
   "outputs": [
    {
     "data": {
      "text/plain": [
       "array([ 0,  3,  6,  9, 12, 15, 18])"
      ]
     },
     "execution_count": 16,
     "metadata": {},
     "output_type": "execute_result"
    }
   ],
   "source": [
    "ar2 = np.arange(0,20,3)\n",
    "ar2"
   ]
  },
  {
   "cell_type": "code",
   "execution_count": 17,
   "id": "8868f95f-7eb0-4b99-9777-b67e0ec4e9d0",
   "metadata": {},
   "outputs": [
    {
     "data": {
      "text/plain": [
       "array([ 0,  3,  6,  9, 12])"
      ]
     },
     "execution_count": 17,
     "metadata": {},
     "output_type": "execute_result"
    }
   ],
   "source": [
    "ar3 = ar2[:5]\n",
    "ar3"
   ]
  },
  {
   "cell_type": "code",
   "execution_count": 18,
   "id": "3409dd87-c1ae-4586-808e-c221197bf00d",
   "metadata": {},
   "outputs": [
    {
     "data": {
      "text/plain": [
       "array([0, 6])"
      ]
     },
     "execution_count": 18,
     "metadata": {},
     "output_type": "execute_result"
    }
   ],
   "source": [
    "ar3[:4:2]"
   ]
  },
  {
   "cell_type": "code",
   "execution_count": 19,
   "id": "29ea6e4d-58e9-47fe-8d98-5375719b8bc4",
   "metadata": {},
   "outputs": [
    {
     "data": {
      "text/plain": [
       "(2, 3)"
      ]
     },
     "execution_count": 19,
     "metadata": {},
     "output_type": "execute_result"
    }
   ],
   "source": [
    "ar1.shape"
   ]
  },
  {
   "cell_type": "markdown",
   "id": "45c7b6ce-934c-4c4a-85d8-5cf67cdaa25c",
   "metadata": {},
   "source": [
    "## **reshape(m, n)**\n",
    "\n",
    "    → donne un tableau de forme (m, n)\n",
    "    → Ne change pas les valeurs, juste la structure\n",
    "    → Crée un nouveau tableau (pas en place sauf si réaffecté à ar1)"
   ]
  },
  {
   "cell_type": "code",
   "execution_count": 21,
   "id": "2805777f-74ce-4904-af4b-fd1e85287d30",
   "metadata": {},
   "outputs": [
    {
     "data": {
      "text/plain": [
       "array([[3, 2],\n",
       "       [3, 4],\n",
       "       [5, 6]])"
      ]
     },
     "execution_count": 21,
     "metadata": {},
     "output_type": "execute_result"
    }
   ],
   "source": [
    "ar4 = ar1.reshape(3,2)\n",
    "ar4"
   ]
  },
  {
   "cell_type": "code",
   "execution_count": null,
   "id": "84739dc4-ab7d-4a6f-a460-fd41d8cff025",
   "metadata": {},
   "outputs": [],
   "source": []
  }
 ],
 "metadata": {
  "kernelspec": {
   "display_name": "Python 3 (ipykernel)",
   "language": "python",
   "name": "python3"
  },
  "language_info": {
   "codemirror_mode": {
    "name": "ipython",
    "version": 3
   },
   "file_extension": ".py",
   "mimetype": "text/x-python",
   "name": "python",
   "nbconvert_exporter": "python",
   "pygments_lexer": "ipython3",
   "version": "3.12.7"
  }
 },
 "nbformat": 4,
 "nbformat_minor": 5
}
