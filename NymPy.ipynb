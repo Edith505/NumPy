{
 "cells": [
  {
   "cell_type": "markdown",
   "id": "d4fe048e-5a10-49e6-9c20-e720a443b70d",
   "metadata": {},
   "source": [
    "# **Tableau numpy**\n",
    "### **Importation Numpy**"
   ]
  },
  {
   "cell_type": "code",
   "execution_count": 1,
   "id": "5694c339-7da8-43f2-9e09-17219257891b",
   "metadata": {},
   "outputs": [],
   "source": [
    "import numpy as np"
   ]
  },
  {
   "cell_type": "code",
   "execution_count": 3,
   "id": "1bc2ec69-b28c-4303-84d3-0353da807be2",
   "metadata": {},
   "outputs": [
    {
     "data": {
      "text/plain": [
       "dtype('int32')"
      ]
     },
     "execution_count": 3,
     "metadata": {},
     "output_type": "execute_result"
    }
   ],
   "source": [
    "ar = np.array([1,2,3,4])\n",
    "ar.dtype"
   ]
  },
  {
   "cell_type": "code",
   "execution_count": 5,
   "id": "faecf5b0-5f14-4318-9b84-f169b3cc4cf7",
   "metadata": {},
   "outputs": [
    {
     "name": "stdout",
     "output_type": "stream",
     "text": [
      "dimension : 1, taille : 4, forme : (4,)\n"
     ]
    }
   ],
   "source": [
    "print(f\"dimension : {ar.ndim}, taille : {ar.size}, forme : {ar.shape}\")"
   ]
  },
  {
   "cell_type": "markdown",
   "id": "66727333-19ff-40ce-8f13-5433e471cde2",
   "metadata": {},
   "source": [
    "### **Tableau numpy a multi-dimenssion**"
   ]
  },
  {
   "cell_type": "code",
   "execution_count": 10,
   "id": "e6edd308-bd8f-45e1-b38d-318e2e3d4b49",
   "metadata": {},
   "outputs": [
    {
     "data": {
      "text/plain": [
       "array([[1, 2, 3],\n",
       "       [4, 5, 6]])"
      ]
     },
     "execution_count": 10,
     "metadata": {},
     "output_type": "execute_result"
    }
   ],
   "source": [
    "ar1 = np.array([[1,2,3],[4,5,6]])\n",
    "ar1"
   ]
  },
  {
   "cell_type": "markdown",
   "id": "84623d9d-6fbe-4042-865e-1904abed0183",
   "metadata": {},
   "source": [
    "Un accès par une seule paire de crochets avec des indices séparés par des virgules"
   ]
  },
  {
   "cell_type": "code",
   "execution_count": 11,
   "id": "d06d48b5-7f1d-4c01-b4aa-74cb17515ab6",
   "metadata": {},
   "outputs": [
    {
     "data": {
      "text/plain": [
       "array([[7, 2, 3],\n",
       "       [4, 5, 6]])"
      ]
     },
     "execution_count": 11,
     "metadata": {},
     "output_type": "execute_result"
    }
   ],
   "source": [
    "ar1[0,0] = 7\n",
    "ar1"
   ]
  },
  {
   "cell_type": "markdown",
   "id": "cfe720bd-e76e-4558-8ef1-36ea1f3e498e",
   "metadata": {},
   "source": [
    "les tableaus numpy ont un type fixe"
   ]
  },
  {
   "cell_type": "code",
   "execution_count": 13,
   "id": "cf7a67e0-72f8-4c56-ac49-7aabb1aa79b8",
   "metadata": {},
   "outputs": [
    {
     "name": "stdout",
     "output_type": "stream",
     "text": [
      "int32\n",
      "float32\n"
     ]
    },
    {
     "data": {
      "text/plain": [
       "array([[3, 2, 3],\n",
       "       [4, 5, 6]])"
      ]
     },
     "execution_count": 13,
     "metadata": {},
     "output_type": "execute_result"
    }
   ],
   "source": [
    "print(ar1.dtype)\n",
    "b = np.array([1, 2, 3], dtype=np.float32)\n",
    "print(b.dtype) \n",
    "ar1[0,0] = np.pi\n",
    "ar1"
   ]
  },
  {
   "cell_type": "markdown",
   "id": "9e37e933-c5b6-4c60-84f9-ca7cb15a4b0a",
   "metadata": {},
   "source": [
    "### **Décomposition :**\n",
    "    np.arange(start, stop, step) est une fonction NumPy qui crée un tableau 1D avec des valeurs régulièrement espacées.\n",
    "    - start = 0 → le point de départ\n",
    "    - stop = 20 → non inclus (attention : comme range() en Python)\n",
    "    - step = 3 → le pas entre les valeurs"
   ]
  },
  {
   "cell_type": "code",
   "execution_count": 16,
   "id": "64f488bd-5ae7-4591-b209-4e37387a3e7c",
   "metadata": {},
   "outputs": [
    {
     "data": {
      "text/plain": [
       "array([ 0,  3,  6,  9, 12, 15, 18])"
      ]
     },
     "execution_count": 16,
     "metadata": {},
     "output_type": "execute_result"
    }
   ],
   "source": [
    "ar2 = np.arange(0,20,3)\n",
    "ar2"
   ]
  },
  {
   "cell_type": "code",
   "execution_count": 17,
   "id": "8868f95f-7eb0-4b99-9777-b67e0ec4e9d0",
   "metadata": {},
   "outputs": [
    {
     "data": {
      "text/plain": [
       "array([ 0,  3,  6,  9, 12])"
      ]
     },
     "execution_count": 17,
     "metadata": {},
     "output_type": "execute_result"
    }
   ],
   "source": [
    "ar3 = ar2[:5]\n",
    "ar3"
   ]
  },
  {
   "cell_type": "code",
   "execution_count": 18,
   "id": "3409dd87-c1ae-4586-808e-c221197bf00d",
   "metadata": {},
   "outputs": [
    {
     "data": {
      "text/plain": [
       "array([0, 6])"
      ]
     },
     "execution_count": 18,
     "metadata": {},
     "output_type": "execute_result"
    }
   ],
   "source": [
    "ar3[:4:2]"
   ]
  },
  {
   "cell_type": "code",
   "execution_count": 19,
   "id": "29ea6e4d-58e9-47fe-8d98-5375719b8bc4",
   "metadata": {},
   "outputs": [
    {
     "data": {
      "text/plain": [
       "(2, 3)"
      ]
     },
     "execution_count": 19,
     "metadata": {},
     "output_type": "execute_result"
    }
   ],
   "source": [
    "ar1.shape"
   ]
  },
  {
   "cell_type": "markdown",
   "id": "45c7b6ce-934c-4c4a-85d8-5cf67cdaa25c",
   "metadata": {},
   "source": [
    "### **reshape(m, n)**\n",
    "\n",
    "    → donne un tableau de forme (m, n)\n",
    "    → Ne change pas les valeurs, juste la structure\n",
    "    → Crée un nouveau tableau (pas en place sauf si réaffecté à ar1)"
   ]
  },
  {
   "cell_type": "code",
   "execution_count": 21,
   "id": "2805777f-74ce-4904-af4b-fd1e85287d30",
   "metadata": {},
   "outputs": [
    {
     "data": {
      "text/plain": [
       "array([[3, 2],\n",
       "       [3, 4],\n",
       "       [5, 6]])"
      ]
     },
     "execution_count": 21,
     "metadata": {},
     "output_type": "execute_result"
    }
   ],
   "source": [
    "ar4 = ar1.reshape(3,2)\n",
    "ar4"
   ]
  },
  {
   "cell_type": "markdown",
   "id": "5a4b3314-5dc3-43ec-832a-cb09a65d26b7",
   "metadata": {},
   "source": [
    "## **Concatenation et division**"
   ]
  },
  {
   "cell_type": "code",
   "execution_count": 22,
   "id": "804b0f71-cf9e-4d97-a2c9-d9b08afdb14e",
   "metadata": {},
   "outputs": [
    {
     "data": {
      "text/plain": [
       "array([1, 2, 3, 4, 1, 2, 3, 4])"
      ]
     },
     "execution_count": 22,
     "metadata": {},
     "output_type": "execute_result"
    }
   ],
   "source": [
    "tab1 = np.array([1,2,3,4])\n",
    "tab = np.concatenate([tab1, tab1])\n",
    "tab"
   ]
  },
  {
   "cell_type": "code",
   "execution_count": 23,
   "id": "a0c73a96-7128-4e1e-a819-f0360cca6ce6",
   "metadata": {},
   "outputs": [
    {
     "data": {
      "text/plain": [
       "array([[1, 2, 3],\n",
       "       [4, 5, 9],\n",
       "       [1, 2, 3],\n",
       "       [4, 5, 9]])"
      ]
     },
     "execution_count": 23,
     "metadata": {},
     "output_type": "execute_result"
    }
   ],
   "source": [
    "tab2 =  np.array([[1,2,3],[4,5,9]])\n",
    "tabs = np.concatenate([tab2, tab2])\n",
    "tabs"
   ]
  },
  {
   "cell_type": "markdown",
   "id": "b18b96ec-39b4-4a12-80ac-7bae49526592",
   "metadata": {},
   "source": [
    "**Concatène deux copies d'un tableau horizontalement (côte à côte), c’est-à-dire le long de l’axe des colonnes (`axis=1`).**\n",
    "\n",
    "- le tableau doit avoir le même nombre de lignes dans les deux instances.\n"
   ]
  },
  {
   "cell_type": "code",
   "execution_count": 24,
   "id": "45bbb190-1c78-4b6a-bd49-7774557da660",
   "metadata": {},
   "outputs": [
    {
     "data": {
      "text/plain": [
       "array([[1, 2, 3, 1, 2, 3],\n",
       "       [4, 5, 9, 4, 5, 9]])"
      ]
     },
     "execution_count": 24,
     "metadata": {},
     "output_type": "execute_result"
    }
   ],
   "source": [
    "tab3 =  np.concatenate([tab2,tab2], axis = 1)\n",
    "tab3"
   ]
  },
  {
   "cell_type": "markdown",
   "id": "a8c3e6db-5c9d-4d4f-9c91-abf2ed74957c",
   "metadata": {},
   "source": [
    "La fonction `np.vstack([...])` concatène les deux tableaux **verticalement** (axe 0), c’est-à-dire en ajoutant les lignes de `tab2` à celles de `tab1[1:]`.\n",
    "\n",
    "- Les deux tableaux doivent avoir **le même nombre de colonnes**."
   ]
  },
  {
   "cell_type": "code",
   "execution_count": 28,
   "id": "92db476d-37b0-4b9b-af6f-0794e1015580",
   "metadata": {},
   "outputs": [
    {
     "data": {
      "text/plain": [
       "array([[2, 3, 4],\n",
       "       [1, 2, 3],\n",
       "       [4, 5, 9]])"
      ]
     },
     "execution_count": 28,
     "metadata": {},
     "output_type": "execute_result"
    }
   ],
   "source": [
    "np.vstack([tab1[1:], tab2])"
   ]
  },
  {
   "cell_type": "code",
   "execution_count": 31,
   "id": "742053a2-7a0c-40b2-a755-ea5cdcc6c8ab",
   "metadata": {},
   "outputs": [
    {
     "data": {
      "text/plain": [
       "array([[1, 2, 3, 1, 2, 3, 1],\n",
       "       [4, 5, 9, 4, 5, 9, 2]])"
      ]
     },
     "execution_count": 31,
     "metadata": {},
     "output_type": "execute_result"
    }
   ],
   "source": [
    "tab4 = np.hstack([tab3, np.array([[1],[2]])])\n",
    "tab4"
   ]
  },
  {
   "cell_type": "markdown",
   "id": "e358707e-6d4b-4c0f-95d8-ead07dd2d0e1",
   "metadata": {},
   "source": [
    "**Diviser un tableau en trois sous-tableaux à l'aide de `np.split` (axe 0 par defaut).**\n",
    "\n",
    "- le tableau doit avoir **au moins autant de lignes que le plus grand indice de découpe**.\n"
   ]
  },
  {
   "cell_type": "code",
   "execution_count": 39,
   "id": "8976cae6-27b3-446a-a079-1588ffe8bab9",
   "metadata": {},
   "outputs": [
    {
     "name": "stdout",
     "output_type": "stream",
     "text": [
      "tab5 : [ 0  3  6  9 12 15 18]\n",
      "a1 : [0 3]\n",
      "a2 : [6 9]\n",
      "a3 : [12 15 18]\n"
     ]
    }
   ],
   "source": [
    "tab5 = np.arange(0,20,3)\n",
    "a1,a2,a3 = np.split(tab5, [2,4])\n",
    "print(f\"tab5 : {tab5}\\na1 : {a1}\\na2 : {a2}\\na3 : {a3}\")"
   ]
  },
  {
   "cell_type": "code",
   "execution_count": 40,
   "id": "efb29ea2-58d7-430c-9528-2902fb968815",
   "metadata": {},
   "outputs": [
    {
     "name": "stdout",
     "output_type": "stream",
     "text": [
      "tab3 : [[1 2 3 1 2 3]\n",
      " [4 5 9 4 5 9]]\n",
      "b1 : [[1 2 3 1 2 3]]\n",
      "b2 : [[4 5 9 4 5 9]]\n"
     ]
    }
   ],
   "source": [
    "b1, b2 = np.vsplit(tab3, [1])\n",
    "print(f\"tab3 : {tab3}\\nb1 : {b1}\\nb2 : {b2}\")"
   ]
  },
  {
   "cell_type": "code",
   "execution_count": 42,
   "id": "77999d1e-bf6e-4661-bb89-30bbaf99fb46",
   "metadata": {},
   "outputs": [
    {
     "name": "stdout",
     "output_type": "stream",
     "text": [
      "tab4 : [[1 2 3 1 2 3 1]\n",
      " [4 5 9 4 5 9 2]]\n",
      "c1 : [[1 2 3 1]\n",
      " [4 5 9 4]]\n",
      "c2 : [[2 3 1]\n",
      " [5 9 2]]\n"
     ]
    }
   ],
   "source": [
    "c1, c2 = np.hsplit(tab4, [4])\n",
    "print(f\"tab4 : {tab4}\\nc1 : {c1}\\nc2 : {c2}\")"
   ]
  },
  {
   "cell_type": "code",
   "execution_count": 47,
   "id": "44ca7c02-31d2-4dc9-a570-dc445a26836d",
   "metadata": {},
   "outputs": [
    {
     "data": {
      "text/plain": [
       "array([[1, 4],\n",
       "       [2, 5],\n",
       "       [3, 9],\n",
       "       [1, 4],\n",
       "       [2, 5],\n",
       "       [3, 9],\n",
       "       [1, 2]])"
      ]
     },
     "execution_count": 47,
     "metadata": {},
     "output_type": "execute_result"
    }
   ],
   "source": [
    "tab4.transpose()"
   ]
  },
  {
   "cell_type": "code",
   "execution_count": 49,
   "id": "9288e6ff-5ad3-4ffc-8e0e-8b8fa355caf5",
   "metadata": {},
   "outputs": [],
   "source": [
    "np.save('exemple.numpy',tab5)"
   ]
  },
  {
   "cell_type": "code",
   "execution_count": 50,
   "id": "8d4dd221-dc76-4961-8bae-b1cbe4fde74c",
   "metadata": {},
   "outputs": [
    {
     "data": {
      "text/plain": [
       "array([ 0,  3,  6,  9, 12, 15, 18])"
      ]
     },
     "execution_count": 50,
     "metadata": {},
     "output_type": "execute_result"
    }
   ],
   "source": [
    "tab6 = np.load('exemple.numpy.npy')\n",
    "tab6"
   ]
  },
  {
   "cell_type": "code",
   "execution_count": null,
   "id": "b429b5a9-b975-472a-aed4-c57a5710ff74",
   "metadata": {},
   "outputs": [],
   "source": []
  }
 ],
 "metadata": {
  "kernelspec": {
   "display_name": "Python 3 (ipykernel)",
   "language": "python",
   "name": "python3"
  },
  "language_info": {
   "codemirror_mode": {
    "name": "ipython",
    "version": 3
   },
   "file_extension": ".py",
   "mimetype": "text/x-python",
   "name": "python",
   "nbconvert_exporter": "python",
   "pygments_lexer": "ipython3",
   "version": "3.12.7"
  }
 },
 "nbformat": 4,
 "nbformat_minor": 5
}
